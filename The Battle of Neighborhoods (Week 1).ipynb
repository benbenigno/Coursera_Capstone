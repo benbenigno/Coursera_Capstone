{
    "cells": [
        {
            "cell_type": "markdown",
            "metadata": {
                "collapsed": true
            },
            "source": "# The Battle of Neighborhoods - Week One\n\n## Introduction:\nDallas and Houston are both large, cosmopolitan cities with relatively low population densities outside of the central business districts, when compared to other American cities of similar population size. Both cities cater to many business travelers which tend to visit the central business district of each city during their trip. Both cities have a major international airport, as well as a smaller regional airport, that serve most of the commercial air traffic to each city.\n\n## Background and Problem Description:\nQuick Quadcopter Quesadillas is a new concept in terminal food delivery service that delivers a made to order, piping hot and delicious quesadilla to hungry travelers, in a convenient hand-held & travel-friendly container. To maximize convenience, the business want to focus on quesidillas delivered to the customer on their way to or from the gate, inside of the TSA clean zone, however can deliver anywhere withing their 5000 meter delivery radius. Since there are large upstart costs as well as a price premium to the end customer over a non-airlifted quesadilla, the startup is looking to partner with air carriers to offer the service as an exclusive benefit to their elite business travelers, who they feel are the market segment most likely to be converted into repeat customers. Quick Quadcopter Quesadillas would like to maximize the number of potential customers by selecting either Dallas or Houston based on an analysis of restaurants that already exist either within the airport, or outside of the airport, but within the 5000 meter delivery radius.\n\n\n## Data and Methodology:\n\nOpen source Python tools, such as Pandas and Numpy, will be used to conduct descriptive analysis, as well as to create visualizations. Data cleaning, web scraping and calls to APIs will also be used to capture data as needed. The Foursquare API will be used to gather data about the different restaurants in and around both airports for each city, segmenting them by venue type of Mexican, and comparing to other types of restaurant venues. We will then compare this data with passenger volumes for each airport and provide a recommendation of which city to offer services in."
        },
        {
            "cell_type": "code",
            "execution_count": null,
            "metadata": {},
            "outputs": [],
            "source": ""
        }
    ],
    "metadata": {
        "kernelspec": {
            "display_name": "Python 3.6",
            "language": "python",
            "name": "python3"
        },
        "language_info": {
            "codemirror_mode": {
                "name": "ipython",
                "version": 3
            },
            "file_extension": ".py",
            "mimetype": "text/x-python",
            "name": "python",
            "nbconvert_exporter": "python",
            "pygments_lexer": "ipython3",
            "version": "3.6.9"
        }
    },
    "nbformat": 4,
    "nbformat_minor": 1
}